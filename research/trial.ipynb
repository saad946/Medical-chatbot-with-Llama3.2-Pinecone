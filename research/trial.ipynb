{
 "cells": [
  {
   "cell_type": "code",
   "execution_count": 13,
   "id": "948a9af8-d079-4bff-94ef-129be2193ff1",
   "metadata": {},
   "outputs": [],
   "source": [
    "import openai\n",
    "from langchain.document_loaders import PyPDFDirectoryLoader\n",
    "from langchain.text_splitter import RecursiveCharacterTextSplitter\n",
    "from langchain.embeddings import HuggingFaceEmbeddings\n",
    "from langchain_openai import OpenAIEmbeddings\n",
    "from langchain.llms import OpenAI\n",
    "from langchain.vectorstores import Pinecone\n",
    "from langchain.chains import RetrievalQA\n",
    "from langchain.prompts import PromptTemplate\n",
    "import os\n"
   ]
  },
  {
   "cell_type": "code",
   "execution_count": 19,
   "id": "ff78557b-01d9-4369-81c8-1015c8a27b7d",
   "metadata": {},
   "outputs": [],
   "source": [
    "from dotenv import load_dotenv\n",
    "from pinecone import Pinecone\n",
    "\n",
    "# Load the .env file\n",
    "load_dotenv()\n",
    "\n",
    "# Get the Pinecone API key from environment variables\n",
    "pinecone_api_key = os.getenv('PINECONE_API_KEY')\n",
    "openai.api_key = os.getenv('OPENAI_API_KEY')"
   ]
  },
  {
   "cell_type": "code",
   "execution_count": 3,
   "id": "224bde19-f6bc-484a-8573-38f4c84c3c9f",
   "metadata": {},
   "outputs": [],
   "source": [
    "#Extract data from the PDF\n",
    "def load_pdf(directory):\n",
    "    # Initialize the PDF loader with the directory containing PDF files\n",
    "    loader = PyPDFDirectoryLoader(directory)\n",
    "    \n",
    "    # Load the data\n",
    "    documents = loader.load()\n",
    "\n",
    "    return documents"
   ]
  },
  {
   "cell_type": "code",
   "execution_count": 4,
   "id": "902bd607-4917-42b1-b4e1-1597cd2704fd",
   "metadata": {},
   "outputs": [],
   "source": [
    "# Assuming the PDFs are stored in a directory called \"PDFs\" within the current working directory\n",
    "extracted_documents = load_pdf(\"data\")\n"
   ]
  },
  {
   "cell_type": "code",
   "execution_count": 5,
   "id": "8d365d81-36b1-4179-a097-d109434a894f",
   "metadata": {},
   "outputs": [
    {
     "data": {
      "text/plain": [
       "Document(metadata={'source': 'data\\\\Gale Encyclopedia of Medicine Vol. 4 (N-S).pdf', 'page': 0}, page_content='TheGALE\\nENCYCLOPEDIA\\nofMEDICINE\\nSECOND EDITION')"
      ]
     },
     "execution_count": 5,
     "metadata": {},
     "output_type": "execute_result"
    }
   ],
   "source": [
    "extracted_documents[0]"
   ]
  },
  {
   "cell_type": "code",
   "execution_count": 10,
   "id": "4b9ed1b6-34c1-4b2e-b484-d8b2015129bb",
   "metadata": {},
   "outputs": [],
   "source": [
    "#Create text chunks\n",
    "def text_splitter(extracted_documents):\n",
    "    text_splitter= RecursiveCharacterTextSplitter(\n",
    "    chunk_size=600,         \n",
    "    chunk_overlap=80,      \n",
    "    length_function=len,\n",
    "    \n",
    "        \n",
    ")\n",
    "    text_chunks= text_splitter.split_documents(extracted_documents) \n",
    "    \n",
    "    return text_chunks\n",
    "\n",
    "    "
   ]
  },
  {
   "cell_type": "code",
   "execution_count": 11,
   "id": "4b63b2a9-f880-48ad-80f6-5e6c2d2a90c3",
   "metadata": {},
   "outputs": [],
   "source": [
    "text_chunks= text_splitter(extracted_documents)"
   ]
  },
  {
   "cell_type": "code",
   "execution_count": 12,
   "id": "74337d7c-69ab-41c3-a4b6-08402a19aab4",
   "metadata": {},
   "outputs": [
    {
     "data": {
      "text/plain": [
       "8943"
      ]
     },
     "execution_count": 12,
     "metadata": {},
     "output_type": "execute_result"
    }
   ],
   "source": [
    "len(text_chunks)"
   ]
  },
  {
   "cell_type": "code",
   "execution_count": 14,
   "id": "c512ecd8-9f94-4f42-8329-565b9d764a24",
   "metadata": {},
   "outputs": [],
   "source": [
    "#download embedding model\n",
    "def download_hugging_face_embeddings():\n",
    "    embeddings = HuggingFaceEmbeddings(model_name=\"sentence-transformers/all-MiniLM-L6-v2\")\n",
    "    return embeddings"
   ]
  },
  {
   "cell_type": "code",
   "execution_count": 15,
   "id": "4364a934-cb90-4fb0-b2ac-faef0c96b874",
   "metadata": {},
   "outputs": [
    {
     "name": "stderr",
     "output_type": "stream",
     "text": [
      "C:\\Users\\Dell\\AppData\\Local\\Temp\\ipykernel_32\\1337643473.py:3: LangChainDeprecationWarning: The class `HuggingFaceEmbeddings` was deprecated in LangChain 0.2.2 and will be removed in 1.0. An updated version of the class exists in the :class:`~langchain-huggingface package and should be used instead. To use it run `pip install -U :class:`~langchain-huggingface` and import as `from :class:`~langchain_huggingface import HuggingFaceEmbeddings``.\n",
      "  embeddings = HuggingFaceEmbeddings(model_name=\"sentence-transformers/all-MiniLM-L6-v2\")\n",
      "C:\\Users\\Dell\\Desktop\\Python\\Generative AI\\Medical-chatbot-with-Llama3.2-Pinecone\\llama\\Lib\\site-packages\\huggingface_hub\\file_download.py:147: UserWarning: `huggingface_hub` cache-system uses symlinks by default to efficiently store duplicated files but your machine does not support them in C:\\Users\\Dell\\.cache\\huggingface\\hub\\models--sentence-transformers--all-MiniLM-L6-v2. Caching files will still work but in a degraded version that might require more space on your disk. This warning can be disabled by setting the `HF_HUB_DISABLE_SYMLINKS_WARNING` environment variable. For more details, see https://huggingface.co/docs/huggingface_hub/how-to-cache#limitations.\n",
      "To support symlinks on Windows, you either need to activate Developer Mode or to run Python as an administrator. In order to activate developer mode, see this article: https://docs.microsoft.com/en-us/windows/apps/get-started/enable-your-device-for-development\n",
      "  warnings.warn(message)\n"
     ]
    }
   ],
   "source": [
    "embeddings= download_hugging_face_embeddings()"
   ]
  },
  {
   "cell_type": "code",
   "execution_count": 16,
   "id": "2a93a1dd-92aa-4411-a721-c52f462e453c",
   "metadata": {},
   "outputs": [
    {
     "data": {
      "text/plain": [
       "HuggingFaceEmbeddings(client=SentenceTransformer(\n",
       "  (0): Transformer({'max_seq_length': 256, 'do_lower_case': False}) with Transformer model: BertModel \n",
       "  (1): Pooling({'word_embedding_dimension': 384, 'pooling_mode_cls_token': False, 'pooling_mode_mean_tokens': True, 'pooling_mode_max_tokens': False, 'pooling_mode_mean_sqrt_len_tokens': False, 'pooling_mode_weightedmean_tokens': False, 'pooling_mode_lasttoken': False, 'include_prompt': True})\n",
       "  (2): Normalize()\n",
       "), model_name='sentence-transformers/all-MiniLM-L6-v2', cache_folder=None, model_kwargs={}, encode_kwargs={}, multi_process=False, show_progress=False)"
      ]
     },
     "execution_count": 16,
     "metadata": {},
     "output_type": "execute_result"
    }
   ],
   "source": [
    "embeddings"
   ]
  },
  {
   "cell_type": "code",
   "execution_count": 21,
   "id": "a723dfe1-b5f4-4254-bf4b-38020516b857",
   "metadata": {},
   "outputs": [
    {
     "name": "stdout",
     "output_type": "stream",
     "text": [
      "Length: 384\n"
     ]
    }
   ],
   "source": [
    "# Assuming embeddings is an object with a method embed_query that returns an embedding vector\n",
    "query_result = embeddings.embed_query(\"Hello world\")\n",
    "\n",
    "# Printing the length of the resulting query embedding\n",
    "print(\"Length:\", len(query_result))\n"
   ]
  },
  {
   "cell_type": "code",
   "execution_count": 17,
   "id": "9a908adf-972f-4b5e-b900-63bfff4b2b3b",
   "metadata": {},
   "outputs": [],
   "source": [
    "import pinecone\n",
    "from pinecone import ServerlessSpec\n",
    "#from langchain.vectorstores import Pinecone as PineconeStore\n",
    "from langchain_pinecone import PineconeVectorStore"
   ]
  },
  {
   "cell_type": "code",
   "execution_count": 20,
   "id": "29446ee9-ec24-4a8e-8c47-43e317d65d43",
   "metadata": {},
   "outputs": [],
   "source": [
    "pc = Pinecone(api_key=pinecone_api_key)"
   ]
  },
  {
   "cell_type": "code",
   "execution_count": 31,
   "id": "44798bed-8924-41b3-931c-be9f79db2fa4",
   "metadata": {},
   "outputs": [],
   "source": [
    "def create_index(index_name):\n",
    "    pc.create_index(\n",
    "    name=index_name,\n",
    "    dimension=384, # Replace with your model dimensions\n",
    "    metric=\"cosine\", # Replace with your model metric\n",
    "    spec=ServerlessSpec(\n",
    "        cloud=\"aws\",\n",
    "        region=\"us-east-1\"\n",
    "    ) \n",
    ")"
   ]
  },
  {
   "cell_type": "code",
   "execution_count": 32,
   "id": "41bbd19b-8e32-499d-9a77-ea892e597dce",
   "metadata": {},
   "outputs": [],
   "source": [
    "index_name= \"medical-chatbot\""
   ]
  },
  {
   "cell_type": "code",
   "execution_count": 33,
   "id": "4970cedb-fe93-4d1c-b1c1-f5193f7625e1",
   "metadata": {},
   "outputs": [],
   "source": [
    "create_index(index_name)"
   ]
  },
  {
   "cell_type": "code",
   "execution_count": 34,
   "id": "bbdc40b0-727d-4724-ae3c-8ac00bc8a59c",
   "metadata": {},
   "outputs": [],
   "source": [
    "# Create Embeddings for each of the Text Chunks\n",
    "docsearch = PineconeVectorStore.from_texts(\n",
    "    [t.page_content for t in text_chunks],  # Extract page content from each text chunk\n",
    "    embeddings,  # Embedding model used to generate embeddings\n",
    "    index_name=index_name  # Name of the Pinecone index to store vectors\n",
    ")"
   ]
  },
  {
   "cell_type": "code",
   "execution_count": 35,
   "id": "3d2c4e5d-33af-48e9-921f-3dc6e621829f",
   "metadata": {},
   "outputs": [
    {
     "name": "stdout",
     "output_type": "stream",
     "text": [
      "Result: [Document(id='1b70232d-8907-4cd5-b658-a08d27f6b803', metadata={}, page_content='Allergy —Altered body reaction, usually hypersen-\\nsitivity, as a response to exposure to a specific sub-stance.\\nAntibody —Any of a large number of proteins that\\nare produced after stimulation by an antigen andact specifically against the antigen in an immuneresponse.\\nAntihistamine —A drug that inhibits the actions of\\nhistamine. Histamine causes dilatation of capillar-ies, contraction of smooth muscle, and stimulationof gastric acid secretion.\\nAntitoxin —An antibody that is capable of neutraliz-'), Document(id='547412ee-e1cd-454c-a91d-b3d94fe21fb1', metadata={}, page_content='KEY TERMS\\nAllergen —Any substance that irritates only those\\nwho are sensitive (allergic) to it.\\nAsthma —Wheezing (labored breathing) due to\\nallergies or irritation of the lungs.\\nDecongestant —Medicines that shrink blood ves-\\nsels and consequently mucus membranes. Pseu-doephedrine, phenylephrine, and phenylpropano-lamine are the most common.\\nSinus —Air-filled cavities surrounding the eyes and\\nnose are lined with mucus-producing membranes.They cleanse the nose, add resonance to the voice,and partially determine the structure of the face.\\nSinuses are lined with mucus membranes, just like the'), Document(id='10a9ebdf-2511-4fc8-a8d8-c12b5c65d40e', metadata={}, page_content='Prognosis\\nIf the causative agent has been diagnosed, avoidance\\nof or protection against the allergen cures the allergy.Usually, allergies can be managed through treatment.\\nResources\\nBOOKS\\nBolognia, Jean L., and Irwin M. Braverman. “Skin Manifesta-\\ntions of Internal Disease.” In Harrison’s Principles of\\nInternal Medicine , ed. Anthony S. Fauci, et al. New York:\\nMcGraw-Hill, 1997.\\nFrank, Michael M. “Urticaria and Angioedema.” In Cecil Text-\\nbook of Medicine , ed. J. Claude Bennett and Fred Plum.\\nPhiladelphia: W. B. Saunders Co., 1996.\\nJ. Ricker Polsdorfer, MD\\nPhysical examination\\nDefinition')]\n"
     ]
    }
   ],
   "source": [
    "# Define a query\n",
    "query = \"What are allergies\"\n",
    "\n",
    "# Perform a similarity search using the Pinecone index\n",
    "docs = docsearch.similarity_search(query, k=3)\n",
    "\n",
    "# Print the results\n",
    "print(\"Result:\", docs)"
   ]
  },
  {
   "cell_type": "code",
   "execution_count": null,
   "id": "899a18dd-710e-4f5d-8e30-822a631909eb",
   "metadata": {},
   "outputs": [],
   "source": [
    "from some_library import PromptTemplate  # Replace 'some_library' with the actual import path\n",
    "\n",
    "# Define the template with placeholders for dynamic content\n",
    "template_prompt_template = \"Context: {context}, Question: {q}\"\n",
    "\n",
    "# Create an instance of PromptTemplate with specified parameters\n",
    "PROMPT = PromptTemplate(\n",
    "    template=template_prompt_template,\n",
    "    input_variables=[\"context\", \"q\"]\n",
    ")\n"
   ]
  },
  {
   "cell_type": "code",
   "execution_count": 36,
   "id": "ec68868d-0bcb-4b40-aead-7348dd9ec00a",
   "metadata": {},
   "outputs": [
    {
     "name": "stderr",
     "output_type": "stream",
     "text": [
      "C:\\Users\\Dell\\AppData\\Local\\Temp\\ipykernel_32\\1466306058.py:6: LangChainDeprecationWarning: The class `OpenAI` was deprecated in LangChain 0.0.10 and will be removed in 1.0. An updated version of the class exists in the :class:`~langchain-openai package and should be used instead. To use it run `pip install -U :class:`~langchain-openai` and import as `from :class:`~langchain_openai import OpenAI``.\n",
      "  llm = OpenAI()\n"
     ]
    }
   ],
   "source": [
    "# llm=CTransformers(model=\"meta-llama/Llama-3.2-1B-Instruct\",\n",
    "#                   model_type=\"llama\",\n",
    "#                   config={'max_new_tokens':512,\n",
    "#                           'temperature':0.8})\n",
    "\n",
    "llm = OpenAI()"
   ]
  },
  {
   "cell_type": "code",
   "execution_count": 38,
   "id": "30fbb334-fa03-4907-99a1-b4c74d1a9fa5",
   "metadata": {},
   "outputs": [
    {
     "data": {
      "text/plain": [
       "' Allergy is an altered reaction of the body to a specific substance, causing symptoms such as itching, swelling, and inflammation.'"
      ]
     },
     "execution_count": 38,
     "metadata": {},
     "output_type": "execute_result"
    }
   ],
   "source": [
    "qa = RetrievalQA.from_chain_type(llm=llm, chain_type=\"stuff\", retriever=docsearch.as_retriever())\n",
    "\n",
    "query = \"What is allergy\"\n",
    "\n",
    "qa.run(query)"
   ]
  },
  {
   "cell_type": "code",
   "execution_count": null,
   "id": "8d454e7f-5425-445a-9f96-99642c391692",
   "metadata": {},
   "outputs": [],
   "source": []
  }
 ],
 "metadata": {
  "kernelspec": {
   "display_name": "Python (llama)",
   "language": "python",
   "name": "llama"
  },
  "language_info": {
   "codemirror_mode": {
    "name": "ipython",
    "version": 3
   },
   "file_extension": ".py",
   "mimetype": "text/x-python",
   "name": "python",
   "nbconvert_exporter": "python",
   "pygments_lexer": "ipython3",
   "version": "3.11.4"
  }
 },
 "nbformat": 4,
 "nbformat_minor": 5
}
